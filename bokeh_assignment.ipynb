{
  "nbformat": 4,
  "nbformat_minor": 0,
  "metadata": {
    "colab": {
      "provenance": []
    },
    "kernelspec": {
      "name": "python3",
      "display_name": "Python 3"
    },
    "language_info": {
      "name": "python"
    }
  },
  "cells": [
    {
      "cell_type": "code",
      "execution_count": null,
      "metadata": {
        "id": "i-WWdy0ApsmX"
      },
      "outputs": [],
      "source": [
        "## 1:ans:-"
      ]
    },
    {
      "cell_type": "code",
      "source": [
        "from bokeh.plotting import figure, output_file, show\n",
        "\n",
        "x = [1, 2, 3, 4, 5]\n",
        "y = [6, 7, 2, 4, 5]\n",
        "\n",
        "p = figure(title=\"Simple Bokeh plot\", x_axis_label='x', y_axis_label='y')\n",
        "p.line(x, y, legend_label=\"Line\", line_width=2)\n",
        "output_file(\"line.html\")\n",
        "show(p)"
      ],
      "metadata": {
        "id": "AzS5rEcDrFYE"
      },
      "execution_count": 1,
      "outputs": []
    },
    {
      "cell_type": "code",
      "source": [
        "##2:ans:-"
      ],
      "metadata": {
        "id": "GVSfhOxTYRwX"
      },
      "execution_count": null,
      "outputs": []
    },
    {
      "cell_type": "code",
      "source": [
        "In Bokeh, a glyph is a basic visual building block that represents data points on a plot. Glyphs can be used to\n",
        " create a variety of visual representations, such as lines, circles, rectangles, and more. Each glyph corresponds\n",
        "  to a specific type of data and can be customized to display different properties such as color, size, and shape."
      ],
      "metadata": {
        "id": "tj9mvSLOYU6l"
      },
      "execution_count": null,
      "outputs": []
    },
    {
      "cell_type": "code",
      "source": [
        "from bokeh.plotting import figure, output_file, show\n",
        "\n",
        "x = [1, 2, 3, 4, 5]\n",
        "y = [6, 7, 2, 4, 5]\n",
        "\n",
        "output_file(\"example.html\")\n",
        "\n",
        "p = figure(title=\"Example Glyphs\", x_axis_label=\"X\", y_axis_label=\"Y\")\n",
        "p.circle(x, y, size=10, color=\"navy\", alpha=0.5)\n",
        "p.line(x, y, line_width=2, color=\"red\")\n",
        "show(p)"
      ],
      "metadata": {
        "id": "7Hp_xTsmZt3S"
      },
      "execution_count": null,
      "outputs": []
    },
    {
      "cell_type": "code",
      "source": [
        "##3:ans:-"
      ],
      "metadata": {
        "id": "2NpdbdunaTN0"
      },
      "execution_count": null,
      "outputs": []
    },
    {
      "cell_type": "code",
      "source": [
        "1: Import the necessary modules:\n",
        "\n",
        "from bokeh.plotting import figure, show\n",
        "from bokeh.models import Legend\n",
        "from bokeh.io import output_notebook\n",
        "\n",
        "2: Create a figure object using the figure() function and set the properties of the plot such as title, axis labels, and ranges:\n",
        "\n",
        "\n",
        "p = figure(title=\"My Bokeh Plot\",\n",
        "           x_axis_label=\"X-axis\",\n",
        "           y_axis_label=\"Y-axis\",\n",
        "           x_range=[0, 10],\n",
        "           y_range=[0, 10])\n",
        "\n",
        "3: Add glyphs or markers to the plot using the glyph methods of the figure() object. For example, to add a circle marker, use the circle() method:\n",
        "\n",
        "p.circle(x=[1, 2, 3], y=[4, 5, 6], size=10, color=\"red\", legend_label=\"Circle\")\n",
        "\n",
        "\n",
        "4: Customize the appearance of the plot components such as axes, title, and legend using the corresponding attributes\n",
        "   of the figure() object. For example, to set the font size of the title and axis labels, use the title.text_font_size, \n",
        "   xaxis.axis_label_text_font_size, and yaxis.axis_label_text_font_size attributes:\n",
        "\n",
        "   p.title.text_font_size = \"16pt\"\n",
        "  p.xaxis.axis_label_text_font_size = \"12pt\"\n",
        "  p.yaxis.axis_label_text_font_size = \"12pt\"\n",
        "\n",
        "\n",
        "5: Add a legend to the plot using the Legend class and the add_layout() method of the figure() object:\n",
        "\n",
        "legend = Legend(items=[(\"Circle\", [p.circle])], location=\"top_left\")\n",
        "p.add_layout(legend, 'right')\n",
        "\n",
        "\n",
        "6: Finally, show the plot using the show() function:\n",
        "\n",
        "show(p)\n"
      ],
      "metadata": {
        "id": "9a0vFiKqaVd-"
      },
      "execution_count": null,
      "outputs": []
    },
    {
      "cell_type": "code",
      "source": [
        "## 4:ans:-"
      ],
      "metadata": {
        "id": "n_j_CVewcb1g"
      },
      "execution_count": null,
      "outputs": []
    },
    {
      "cell_type": "code",
      "source": [
        "\n",
        "\n",
        "Bokeh is a Python library for creating interactive visualizations for modern web browsers. Bokeh Server is a powerful\n",
        " tool that allows you to create interactive plots that can be updated in real-time on a web page. \n",
        "\n",
        "Using Bokeh Server, you can create dynamic dashboards, data-driven applications, and other real-time visualizations.\n",
        " Bokeh Server allows you to create custom web applications that use Bokeh plots as their primary visualization component.\n",
        "\n",
        "To create an interactive plot with Bokeh Server, you can follow these steps:\n",
        "\n",
        "1. Define your data: You'll need to define the data that you want to visualize in your plot. This data can come\n",
        " from a variety of sources, including CSV files, databases, and APIs.\n",
        "\n",
        "2. Create your plot: Using Bokeh's plotting tools, you can create a plot that displays your data. You can customize\n",
        " the plot's appearance, including colors, labels, and axis scales.\n",
        "\n",
        "3. Add interactive elements: Bokeh provides a range of interactive elements that you can add to your plot, including\n",
        " sliders, drop-down menus, and buttons. These elements allow users to interact with your plot and explore your data in real-time.\n",
        "\n",
        "4. Define your callback functions: Callback functions are the heart of Bokeh Server. They allow you to specify what happens when\n",
        " a user interacts with your plot. For example, you might define a callback function that updates the plot's data when a user adjusts a slider.\n",
        "\n",
        "5. Launch your Bokeh Server: Once you've defined your plot and callback functions, you can launch your Bokeh Server. This will create \n",
        "a web page that displays your plot and allows users to interact with it in real-time.\n",
        "\n",
        "Overall, Bokeh Server is a powerful tool for creating interactive plots that can be updated in real-time. By following the \n",
        "steps outlined above, you can create custom web applications that allow users to explore your data in a dynamic and interactive way."
      ],
      "metadata": {
        "id": "_Npv0z7Zceqq"
      },
      "execution_count": null,
      "outputs": []
    },
    {
      "cell_type": "code",
      "source": [
        "## 5:ans:"
      ],
      "metadata": {
        "id": "NSVKIRmAeAV5"
      },
      "execution_count": null,
      "outputs": []
    },
    {
      "cell_type": "code",
      "source": [
        "from flask import Flask, render_template\n",
        "from bokeh.plotting import figure\n",
        "from bokeh.embed import components\n",
        "\n",
        "app = Flask(__name__)\n",
        "\n",
        "@app.route('/')\n",
        "def index():\n",
        "    # Create a Bokeh plot\n",
        "    p = figure(title='Example Bokeh Plot', x_axis_label='x', y_axis_label='y')\n",
        "    p.line([1, 2, 3, 4, 5], [6, 7, 2, 4, 5])\n",
        "\n",
        "    # Generate JavaScript and HTML code for embedding the Bokeh plot\n",
        "    script, div = components(p)\n",
        "\n",
        "    # Render the HTML template with the embedded Bokeh plot\n",
        "    return render_template('index.html', bokeh_script=script, bokeh_div=div)\n",
        "\n",
        "if __name__ == '__main__':\n",
        "    app.run()\n"
      ],
      "metadata": {
        "id": "kho1WrEeeIga"
      },
      "execution_count": null,
      "outputs": []
    }
  ]
}